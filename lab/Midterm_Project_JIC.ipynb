{
 "cells": [
  {
   "cell_type": "markdown",
   "metadata": {},
   "source": [
    "# <span style=\"color:#228B22\">Bobcats, Coyotes & Foxes</span>\n",
    "This Jupyter Notebook is for a mid-term project that looks at the explored methods for cleaning & analyzing data in order to extract meaningful insights. The goal of this project is to analyze the data to evaluate whether specific morphological or biogeochemical traits can reliably differentiate species. We also research biological and ecological factors that may explain observed patterns.\n",
    "\n",
    "<p align=\"center\">\n",
    "  <img src=\"new_fox.jpg\" alt=\"Alt Text\" width=\"300\" style=\"border-radius: 15px;\"/>\n",
    "</p>"
   ]
  },
  {
   "cell_type": "markdown",
   "metadata": {},
   "source": [
    "## <span style=\"color:#228B22\">Part 2 | Data Preprocessing</span>\n",
    "In part 2, we begin with data pre-processing, statistical and visualization techniques. We start off with data pre-processing, where we look at how we cleaned the dataset, handling the missing values, data type conversions and any trasnformations applied. We justify any decisions made about outlier treatment, such as removal, trasnformation or retention."
   ]
  },
  {
   "cell_type": "markdown",
   "metadata": {},
   "source": [
    "### <span style=\"color:#228B22\">Loading the Dataset</span>\n",
    "To begin the mid-term project, we start off by loading the `.csv` file into a Pandas Dataframe. This allows us to the see the statistics behind the dataset,the features in the dataset, as well as their respective data types. Loading it into a Pandas Dataframe also allows us to perform data cleaning feature, remove or add any features, as well as many other things."
   ]
  },
  {
   "cell_type": "code",
   "execution_count": null,
   "metadata": {},
   "outputs": [],
   "source": [
    "# importing the pandas library\n",
    "import pandas as pd\n",
    "\n",
    "# importing the ipython library\n",
    "from IPython.display import display\n",
    "\n",
    "# converting the .csv file into a pandas data frame\n",
    "scat_df = pd.read_csv(r'C:\\GitHub\\BobcatsCoyotesFoxes\\data\\Dataset_BobcatsCoyotesFoxes.csv')\n",
    "\n",
    "# displaying the first 5 rows of the data frame\n",
    "scat_df.head(5)"
   ]
  },
  {
   "cell_type": "markdown",
   "metadata": {},
   "source": [
    "### <span style=\"color:#228B22\"> Dataset Explained </span>\n",
    "Looking at this data set, we need to understand what the features are about. We need to know what the units are, what the features mean, as well as the description of the features. Here is a complete breakdown into the dataframe and what each of these features mean, as well as the necessary column renaming."
   ]
  },
  {
   "cell_type": "code",
   "execution_count": null,
   "metadata": {},
   "outputs": [],
   "source": [
    "# displaying the pandas data frame\n",
    "display(\"The Scat Data Frame: \", scat_df.head(5))"
   ]
  },
  {
   "cell_type": "markdown",
   "metadata": {},
   "source": [
    "### <span style=\"color:#228B22\"> Identifying the Scat </span>\n",
    "The first following features of the data frame are information related to identifying the scat. As presented in the bullet points below, we look at the species the scat came from, the month and year the scat was dropped, as well as the site, and where on the trail the scat was dropped at. Although not neceesary, we rename the column headings for more clarity.\n",
    "- <span style=\"color:green\">**Species:**</span> the specied that produced the scat\n",
    "- <span style=\"color:green\">**Month:**</span> the month when the scat was collected\n",
    "- <span style=\"color:green\">**Year:**</span> the year when the scat was collected\n",
    "- <span style=\"color:green\">**Site:**</span> the location / site code where the scat was found\n",
    "- <span style=\"color:green\">**Location:**</span> the specific position of the scat on the trail or road"
   ]
  },
  {
   "cell_type": "code",
   "execution_count": null,
   "metadata": {},
   "outputs": [],
   "source": [
    "# renaming the columns for more clarity\n",
    "scat_df.rename(columns={'Species' : 'scat_species', 'Month' : 'scat_month', 'Year' : 'scat_year', 'Site' : 'scat_site',\n",
    "                       'Location' : 'scat_location'}, \n",
    "                       inplace=True)\n",
    "\n",
    "# displaying the updated scat data frame\n",
    "scat_df.head(5)"
   ]
  },
  {
   "cell_type": "markdown",
   "metadata": {},
   "source": [
    "### <span style=\"color:#228B22\"> Description of the Scat </span>\n",
    "The second following features of the data frame are information related to the appearance of the scat. As presented in the bullet points below, we look at the age of the scat, how many pieces, the length and diameter of the scar, the taper and taper index, as well as the mass of the scat after free-drying.\n",
    "- <span style=\"color:green\">**Age:**</span> the age of the scat when it was collected\n",
    "- <span style=\"color:green\">**Number:**</span> the number of separate scat pieces in the sample\n",
    "- <span style=\"color:green\">**Length:**</span> the length of the longest scat piece (measured in cm)\n",
    "- <span style=\"color:green\">**Diameter:**</span> the widest diameter of the scat (measured in mm)\n",
    "- <span style=\"color:green\">**Taper:**</span> the length of the longest taper down the axis of the scat (measured in mm)\n",
    "- <span style=\"color:green\">**Taper Index (TI):**</span> ratio of the taper length to scat diameter \n",
    "- <span style=\"color:green\">**Mass:**</span> the total dry weight of the scat after free-drying and baking (measured in grams)"
   ]
  },
  {
   "cell_type": "code",
   "execution_count": null,
   "metadata": {},
   "outputs": [],
   "source": [
    "# renaming the columns for more clarity\n",
    "scat_df.rename(columns={'Age' : 'scat_age', 'Number' : 'scat_number', 'Length' : 'scat_length_cm', 'Diameter' : 'scat_diameter_mm', \n",
    "                        'Taper' : 'scat_taper_mm', 'TI' : 'scat_taper_index', 'Mass' : 'scat_mass_grams'}, \n",
    "                       inplace=True)\n",
    "\n",
    "# displaying the updated scat data frame\n",
    "scat_df.head(5)"
   ]
  },
  {
   "cell_type": "markdown",
   "metadata": {},
   "source": [
    "### <span style=\"color:#228B22\"> Carbon & Nitrogen Information of the Scat </span>\n",
    "The third following features of the data frames are related to the chemical composition of the scat. As presented in the bullet points below, we look at the amount of carbon and nitrogen in the scat, as well as the carbon-nitrogen ratio in the scat itself.\n",
    "- <span style=\"color:green\">**d13C:**</span> ratio of carbon-13 to carbon-12\n",
    "- <span style=\"color:green\">**d15C:**</span> ratio of nitrogen-15 to nitrogen-14\n",
    "- <span style=\"color:green\">**CN Ratio:**</span> ratio of carbon to nitrogen\n"
   ]
  },
  {
   "cell_type": "code",
   "execution_count": null,
   "metadata": {},
   "outputs": [],
   "source": [
    "# renaming the columns for more clarity\n",
    "scat_df.rename(columns={'CN' : 'C:N Ratio'}, \n",
    "                       inplace=True)\n",
    "\n",
    "# displaying the updated scat data frame\n",
    "scat_df.head(5)"
   ]
  },
  {
   "cell_type": "markdown",
   "metadata": {},
   "source": [
    "### <span style=\"color:#228B22\"> Morphological Traits of the Scat </span>\n",
    "The fourth and last following of the features of the data frames are related to the morphological traits of the scat. As presented in the bullet points below, we look at the shape of the scat, as to whether it is twisted, segmented, flat puddle or if there are any scrape marks.\n",
    "- <span style=\"color:green\">**Ropey:**</span> does the scat apppear twisted / woven? (1 means yes, 0 means no)\n",
    "- <span style=\"color:green\">**Segmented:**</span> does the scat show segmentation? (1 means yes, 0 means no)\n",
    "- <span style=\"color:green\">**Flat:**</span> is the scat a flat puddle lacking distinct shape? (1 means yes, 0 means no)\n",
    "- <span style=\"color:green\">**Scrape:**</span> is there a scrape mark near the scat? (1 means yes, 0 means no)"
   ]
  },
  {
   "cell_type": "code",
   "execution_count": null,
   "metadata": {},
   "outputs": [],
   "source": [
    "# renaming the columns for more clarity\n",
    "scat_df.rename(columns={'Ropey' : 'scat_ropey', 'Segmented' : 'scat_segmented', 'Flat' : 'scat_flat', 'Scrape' : 'scat_scrape'}, \n",
    "                       inplace=True)\n",
    "\n",
    "# displaying the updated scat data frame\n",
    "scat_df.head(5)"
   ]
  },
  {
   "cell_type": "markdown",
   "metadata": {},
   "source": [
    "### <span style=\"color:#228B22\">Dataset Description & Information</span>\n",
    "After we've renamed the columns in the dataframe, we now move on to looking at the statistical summary of the numerical columns in the data frame using \n",
    "`.describe()` and a quick overview of the data frame structure using `.info()`."
   ]
  },
  {
   "cell_type": "code",
   "execution_count": null,
   "metadata": {},
   "outputs": [],
   "source": [
    "# viewing the statistical summary of the pandas data frame\n",
    "display(\"Statistical Summary: \",  scat_df.describe())\n",
    "\n",
    "# viewing the overview of the pandas data frame \n",
    "display(\"Data Frame Overview: \", scat_df.info())"
   ]
  },
  {
   "cell_type": "markdown",
   "metadata": {},
   "source": [
    "### <span style=\"color:#228B22\">Feature Data Type Conversion</span>\n",
    "After viewing the data types of the features in the data frame, it is evident to see that the data type of some of the features need to be changed. We can achieve this using `.astype()`. Some of the features that need this is as follows:\n",
    "- For features that need to be categorized using `.astype('category')`, they are `scat_species`, `scat_month`, `scat_site` & `scat_location`\n",
    "- For features that need to be boolean using `.astype('boolean')`, they are `scat_ropey`, `scat_segmented`, `scat_flat` & `scat_scrape`"
   ]
  },
  {
   "cell_type": "code",
   "execution_count": null,
   "metadata": {},
   "outputs": [],
   "source": [
    "# converting the following features into categorical features\n",
    "scat_df['scat_species'] = scat_df['scat_species'].astype('category')\n",
    "scat_df['scat_month'] = scat_df['scat_month'].astype('category')\n",
    "scat_df['scat_site'] = scat_df['scat_site'].astype('category')\n",
    "scat_df['scat_location'] = scat_df['scat_location'].astype('category')\n",
    "\n",
    "# converting the following features into boolean features\n",
    "scat_df['scat_ropey'] = scat_df['scat_ropey'].astype('boolean')\n",
    "scat_df['scat_segemented'] = scat_df['scat_segmented'].astype('boolean')\n",
    "scat_df['scat_flat'] = scat_df['scat_flat'].astype('boolean')\n",
    "scat_df['scat_scrape'] = scat_df['scat_scrape'].astype('boolean')\n",
    "\n",
    "# viewing the overview of the pandas data frame just to double check\n",
    "display(\"Data Frame Overview: \", scat_df.info())"
   ]
  },
  {
   "cell_type": "markdown",
   "metadata": {},
   "source": [
    "### <span style=\"color:#228B22\">To Impute or To Drop?</span>\n",
    "Great! We've set the appropriate data types to the appropriate features. We can also see from the quick overview that there are some null values in the data frame. The null values come from the following features: `scat_diameter_mm`, `scat_taper_mm`, `scat_taper_index`, `scat_mass_grams`, `d13C`, `d15N` & `C:N Ratio`."
   ]
  },
  {
   "cell_type": "code",
   "execution_count": null,
   "metadata": {},
   "outputs": [],
   "source": [
    "# checking for number of missing values in each feature\n",
    "scat_df.isnull().sum()"
   ]
  },
  {
   "cell_type": "markdown",
   "metadata": {},
   "source": [
    "### <span style=\"color:#228B22\">Kernel Density Estimation Plots</span>\n",
    "Now that we can confirm which features have missing values, we can now question whether it would be a good decision to drop the rows that have missing values, or use imputation methods to fill in the missing values. Since we have a small dataset, it would be best to not drop the values, but rather than impute them. So, what would be the method of imputation? Since the features with missing values are all numerical, we can use either mean or median. We use the application for the following situations:\n",
    "\n",
    "- <span style=\"color:green\">**Mean:**</span> we use the mean for numerical columns that are normally distributed\n",
    "- <span style=\"color:green\">**Median:**</span> we use the median for numerical columns that are skewed and contain outliers\n",
    "\n",
    "In order to figure out whether a feature is normally distributed or skewed, we need to use data visualization. For this situation, we can plot a kernel density estimation plot for each of the features by creating a function that does as such."
   ]
  },
  {
   "cell_type": "code",
   "execution_count": null,
   "metadata": {},
   "outputs": [],
   "source": [
    "# importing the matplotlib library\n",
    "import matplotlib.pyplot as plt\n",
    "\n",
    "# importing the seaborn library\n",
    "import seaborn as sns\n",
    "\n",
    "# function for plotting a histogram\n",
    "def plot_histograms(feature_list):\n",
    "\n",
    "    # defining the rows and columns\n",
    "    rows = 3\n",
    "    columns = 3\n",
    "    total_plots = len(feature_list)\n",
    "\n",
    "    # creating a sub plot grid\n",
    "    fig, axes = plt.subplots(rows, columns, figsize=(15, 12))\n",
    "\n",
    "    # flattening the axes\n",
    "    axes = axes.flatten()\n",
    "\n",
    "    # using a for loop to loop through the features\n",
    "    for i, feature_name in enumerate(feature_list):\n",
    "\n",
    "        # plotting a histogram\n",
    "        sns.histplot(scat_df[feature_name], kde=True, ax=axes[i])\n",
    "\n",
    "        # defining the axes and title of the plot\n",
    "        axes[i].set_title(\"Histogram of \" + feature_name)\n",
    "        axes[i].set_xlabel(feature_name)\n",
    "        axes[i].set_ylabel(\"Frequency\")\n",
    "\n",
    "        # adding the caption for numbering of the figure \n",
    "        axes[i].annotate(f\"Figure {i+1}\", xy=(0.5, -0.25), xycoords='axes fraction', ha='center', fontsize=10)\n",
    "    \n",
    "    # removing any unused subplots\n",
    "    for j in range(total_plots, rows * columns):\n",
    "        fig.delaxes(axes[j])\n",
    "    \n",
    "    # saving the plot in a plot directory\n",
    "    plt.savefig(r\"C:\\GitHub\\BobcatsCoyotesFoxes\\plots\\kde_missing.png\", dpi=300, bbox_inches=\"tight\")\n",
    "\n",
    "\n",
    "    # displaying the plots\n",
    "    plt.tight_layout()\n",
    "    plt.show()"
   ]
  },
  {
   "cell_type": "code",
   "execution_count": null,
   "metadata": {},
   "outputs": [],
   "source": [
    "# creating a list of features to plot\n",
    "missing_list = ['scat_diameter_mm', 'scat_taper_mm', 'scat_taper_index', 'scat_mass_grams', 'd13C', 'd15N', 'C:N Ratio']\n",
    "\n",
    "# creating all the histogram plots using the function\n",
    "plot_histograms(missing_list)"
   ]
  },
  {
   "cell_type": "markdown",
   "metadata": {},
   "source": [
    "### <span style=\"color:#228B22\">Box Plots</span>\n",
    "Now that we've plotted the kernel density estimation plots, we can easily tell which features can be imputed using mean or mode. As the `scat_diameter_mm` is the only plot that has a normal distribution, we can impute the missing values with the mean of the feature. For the other features, we can see that they have a right-skew, as a result we can say that it such features can be imputed using the median. Just to be very sure, we will also graph out the box plots for the features that have missing values."
   ]
  },
  {
   "cell_type": "code",
   "execution_count": null,
   "metadata": {},
   "outputs": [],
   "source": [
    "# function for plotting a box plot\n",
    "def plot_box_plots(feature_list):\n",
    "\n",
    "    # defining the rows and columns\n",
    "    rows = 3\n",
    "    columns = 3\n",
    "    total_plots = len(feature_list)\n",
    "\n",
    "    # creating a sub plot grid\n",
    "    fig, axes = plt.subplots(rows, columns, figsize=(15, 12))\n",
    "\n",
    "    # flattening the axes\n",
    "    axes = axes.flatten()\n",
    "\n",
    "    # using a for loop to loop through the features\n",
    "    for i, feature_name in enumerate(feature_list):\n",
    "\n",
    "        # plotting a histogram\n",
    "        sns.boxplot(scat_df[feature_name], ax=axes[i])\n",
    "\n",
    "        # defining the axes and title of the plot\n",
    "        axes[i].set_title(\"Histogram of \" + feature_name)\n",
    "        axes[i].set_xlabel(feature_name)\n",
    "        axes[i].set_ylabel(\"Frequency\")\n",
    "\n",
    "        # adding the caption for numbering of the figure \n",
    "        axes[i].annotate(f\"Figure {i+8}\", xy=(0.5, -0.25), xycoords='axes fraction', ha='center', fontsize=10)\n",
    "    \n",
    "    # removing any unused subplots\n",
    "    for j in range(total_plots, rows * columns):\n",
    "        fig.delaxes(axes[j])\n",
    "    \n",
    "    # saving the plot in a plot directory\n",
    "    plt.savefig(r\"C:\\GitHub\\BobcatsCoyotesFoxes\\plots\\box_plot_missing.png\", dpi=300, bbox_inches=\"tight\")\n",
    "\n",
    "\n",
    "    # displaying the plots\n",
    "    plt.tight_layout()\n",
    "    plt.show()\n",
    "    "
   ]
  },
  {
   "cell_type": "code",
   "execution_count": null,
   "metadata": {},
   "outputs": [],
   "source": [
    "# creating all the histogram plots using the function\n",
    "plot_box_plots(missing_list)"
   ]
  },
  {
   "cell_type": "markdown",
   "metadata": {},
   "source": [
    "### <span style=\"color:#228B22\">Performing the Imputations</span>\n",
    "By looking at the boxplots, we can see that there are number of outliers in features such as `d13C`, `d15N`, `C:N Ratio`. However, we choose not the drop the rows that have the missing values as we have a small dataset. Instead it is better to simply impute with the median. As a result, we now perform the following imputations in the cell below."
   ]
  },
  {
   "cell_type": "code",
   "execution_count": null,
   "metadata": {},
   "outputs": [],
   "source": [
    "# filling in the missing values using just the mode of that feature\n",
    "scat_df['scat_diameter_mm'] = scat_df['scat_diameter_mm'].fillna(scat_df['scat_diameter_mm'].mean())\n",
    "\n",
    "# list for perfoming median imputations\n",
    "median_imputation = ['scat_taper_mm', 'scat_taper_index', 'scat_mass_grams', 'd13C', 'd15N', 'C:N Ratio']\n",
    "\n",
    "# filling in the missing values using just the median of that feature\n",
    "for median_feature in median_imputation:\n",
    "    scat_df[median_feature] = scat_df[median_feature].fillna(scat_df[median_feature].median())\n",
    "\n",
    "# checking to see that there are no missing values\n",
    "display(\"Missing Values: \", scat_df.isnull().sum())"
   ]
  },
  {
   "cell_type": "markdown",
   "metadata": {},
   "source": [
    "## <span style=\"color:#228B22\">Part 2 | Visualization Techniques</span>\n",
    "Next, we look at the different kinds of visualization techniques we've used to assess the differences between the species and the reasoning as to why we used those visualization techniques. In order to understand which visualization tehcniques to use, we need to talk about the reserach questions we're addressing:\n",
    "- Which (if any) morphological and biogeochemical traits distinguish between orginating species of the scat samples\n",
    "- Why do you think those traits differ across species"
   ]
  },
  {
   "cell_type": "markdown",
   "metadata": {},
   "source": [
    "### <span style=\"color:#228B22\">Setting a Response Variable</span>\n",
    "In order to set a response variable, we need to understand the hypothesis question. The hypothesis question asks for any morophological and biogeochemical traits that distinguish between the originating species of the scat samples. \n",
    "\n",
    "Lets look at the morphological traits first. Morphological traits refers to the physical characteristics of the scat, and these are `scat_diameter_mm`, `scat_length_cm`, `scat_mass_grams`, `scat_taper_mm` & `scat_taper_index`. Next, we can look at the biogeochemical traits. Such biogeochemical traits are `d13C`, `d15N` & `C:N Ratio`. \n",
    "\n",
    "Now that we've defined the traits, we need to define the response variable. Since we're trying to distinguish the differences between the species, it would make the most sense to set the `scat_species` as the response variable. Since we're compare numerical variables against a categorical variable, it would make most sense to build a function that plots box plots and violin plots.\n"
   ]
  },
  {
   "cell_type": "code",
   "execution_count": null,
   "metadata": {},
   "outputs": [],
   "source": [
    "# function for plotting a box plot\n",
    "def box_plot_visualize(response_variable, alternative_variable_list, row, col, dataframe):\n",
    "\n",
    "    # defining the rows and columns\n",
    "    rows = row\n",
    "    columns = col\n",
    "    total_plots = len(alternative_variable_list)\n",
    "\n",
    "    # creating a sub plot grid\n",
    "    fig, axes = plt.subplots(rows, columns, figsize=(15, 10))\n",
    "\n",
    "    # flattening the axes\n",
    "    axes = axes.flatten()\n",
    "\n",
    "    # using a for loop to loop through the features\n",
    "    for i, feature_name in enumerate(alternative_variable_list):\n",
    "\n",
    "        # plotting a box plot\n",
    "        sns.boxplot(x=response_variable, y=feature_name, data=dataframe, ax=axes[i])\n",
    "\n",
    "        # setting up the details of the plot\n",
    "        axes[i].set_title(f\"{feature_name} vs {response_variable.name}\")\n",
    "        axes[i].set_xlabel(response_variable.name)\n",
    "        axes[i].set_ylabel(feature_name)\n",
    "\n",
    "        # adding the caption for numbering of the figure \n",
    "        axes[i].annotate(f\"Figure {i+15}\", xy=(0.5, -0.25), xycoords='axes fraction', ha='center', fontsize=10)\n",
    "    \n",
    "    # removing any unused subplots\n",
    "    for j in range(total_plots, rows * columns):\n",
    "        fig.delaxes(axes[j])\n",
    "\n",
    "\n",
    "    # saving the plot in a plot directory\n",
    "    plt.savefig(rf\"C:\\GitHub\\BobcatsCoyotesFoxes\\plots\\box_plot_morphological.png\", dpi=300, bbox_inches=\"tight\")\n",
    "\n",
    "    # displaying the plots\n",
    "    plt.tight_layout()\n",
    "    plt.show()"
   ]
  },
  {
   "cell_type": "code",
   "execution_count": null,
   "metadata": {},
   "outputs": [],
   "source": [
    "# function for plotting a violin plot\n",
    "def violin_plot_visualize(response_variable, alternative_variable_list, row, col, dataframe):\n",
    "\n",
    "    # defining the rows and columns\n",
    "    rows = row\n",
    "    columns = col\n",
    "    total_plots = len(alternative_variable_list)\n",
    "\n",
    "    # creating a sub plot grid\n",
    "    fig, axes = plt.subplots(rows, columns, figsize=(18, 6))\n",
    "\n",
    "    # flattening the axes\n",
    "    axes = axes.flatten()\n",
    "\n",
    "    # using a for loop to loop through the features\n",
    "    for i, feature_name in enumerate(alternative_variable_list):\n",
    "\n",
    "        # plotting a box plot\n",
    "        sns.violinplot(x=response_variable, y=feature_name, data=dataframe, ax=axes[i])\n",
    "\n",
    "        # setting up the details of the plot\n",
    "        axes[i].set_title(f\"{feature_name} vs {response_variable.name}\")\n",
    "        axes[i].set_xlabel(response_variable.name)\n",
    "        axes[i].set_ylabel(feature_name)\n",
    "\n",
    "        # adding the caption for numbering of the figure \n",
    "        axes[i].annotate(f\"Figure {i+20}\", xy=(0.5, -0.25), xycoords='axes fraction', ha='center', fontsize=10)\n",
    "    \n",
    "    # removing any unused subplots\n",
    "    for j in range(total_plots, rows * columns):\n",
    "        fig.delaxes(axes[j])\n",
    "\n",
    "\n",
    "    # saving the plot in a plot directory\n",
    "    plt.savefig(rf\"C:\\GitHub\\BobcatsCoyotesFoxes\\plots\\violin_plot_biogeochemical.png\", dpi=300, bbox_inches=\"tight\")\n",
    "\n",
    "    # displaying the plots\n",
    "    plt.tight_layout()\n",
    "    plt.show()"
   ]
  },
  {
   "cell_type": "markdown",
   "metadata": {},
   "source": [
    "### <span style=\"color:#228B22\">Morphological Traits vs `scat_species`</span>\n",
    "When we compare morphological traits, which are numerical variables against `scat_species`, which is a categorical variable, it would make the most sense to plot a box plot. We can use these box plots to draw comparisions between the morphological variables against the `scat_species`."
   ]
  },
  {
   "cell_type": "code",
   "execution_count": null,
   "metadata": {},
   "outputs": [],
   "source": [
    "# setting up a list of morphological traits\n",
    "morophological_list = ['scat_diameter_mm', 'scat_length_cm', 'scat_mass_grams', 'scat_taper_mm', 'scat_taper_index']\n",
    "\n",
    "# creating the plots for comparing the morpohological traits against the response variable\n",
    "box_plot_visualize(scat_df[\"scat_species\"], morophological_list, 2, 3, scat_df)"
   ]
  },
  {
   "cell_type": "markdown",
   "metadata": {},
   "source": [
    "### <span style=\"color:#228B22\">Biogeochemical Traits vs `scat_species`</span>\n",
    "When we compare morphological traits, which are numerical variables against `scat_species`, which is a categorical variable, it would make the most sense to plot a violin plot. We can use these violin plots to draw comparisions between the biogeochemical variables against the `scat_species`."
   ]
  },
  {
   "cell_type": "code",
   "execution_count": null,
   "metadata": {},
   "outputs": [],
   "source": [
    "# setting up a list of biogeochemical traits\n",
    "biogeocchemical_list = ['d13C', 'd15N', 'C:N Ratio']\n",
    "\n",
    "# creating the plots for comparing the biogeochemical traits against the response variable\n",
    "violin_plot_visualize(scat_df[\"scat_species\"], biogeocchemical_list, 1, 3, scat_df)"
   ]
  },
  {
   "cell_type": "markdown",
   "metadata": {},
   "source": [
    "## <span style=\"color:#228B22\">Part 2 | Statistical Techniques</span>\n",
    "Next, we look at the different kinds of statistical techniques we've used to assess the differences between the species and the reasoning as to why we used those statistical techniques. In order to understand which statistical tehcniques to use, we need to talk about the reserach questions we're addressing:\n",
    "- Which (if any) morphological and biogeochemical traits distinguish between orginating species of the scat samples\n",
    "- Why do you think those traits differ across species"
   ]
  },
  {
   "cell_type": "markdown",
   "metadata": {},
   "source": []
  }
 ],
 "metadata": {
  "kernelspec": {
   "display_name": "dataScienceEnv",
   "language": "python",
   "name": "python3"
  },
  "language_info": {
   "codemirror_mode": {
    "name": "ipython",
    "version": 3
   },
   "file_extension": ".py",
   "mimetype": "text/x-python",
   "name": "python",
   "nbconvert_exporter": "python",
   "pygments_lexer": "ipython3",
   "version": "3.13.1"
  }
 },
 "nbformat": 4,
 "nbformat_minor": 2
}
